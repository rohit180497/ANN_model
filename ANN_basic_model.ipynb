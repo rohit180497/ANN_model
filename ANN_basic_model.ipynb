{
 "cells": [
  {
   "cell_type": "code",
   "execution_count": 1,
   "metadata": {},
   "outputs": [],
   "source": [
    "import numpy as np\n",
    "import matplotlib.pyplot as plt\n",
    "import pandas as pd\n"
   ]
  },
  {
   "cell_type": "code",
   "execution_count": 3,
   "metadata": {},
   "outputs": [],
   "source": [
    "dataset = pd.read_csv('/Users/rahulkosamkar/Documents/Data_Science/Deep Learning/Complete-Deep-Learning-master/ANN/Churn_Modelling.csv')\n",
    "X = dataset.iloc[:, 3:13]\n",
    "y = dataset.iloc[:, 13]\n"
   ]
  },
  {
   "cell_type": "code",
   "execution_count": 5,
   "metadata": {},
   "outputs": [],
   "source": [
    "#Create dummy variables\n",
    "geography=pd.get_dummies(X[\"Geography\"],drop_first=True)\n",
    "gender=pd.get_dummies(X['Gender'],drop_first=True)\n",
    "\n"
   ]
  },
  {
   "cell_type": "code",
   "execution_count": 6,
   "metadata": {},
   "outputs": [],
   "source": [
    "## Concatenate the Data Frames\n",
    "\n",
    "X=pd.concat([X,geography,gender],axis=1)\n",
    "\n",
    "## Drop Unnecessary columns\n",
    "X=X.drop(['Geography','Gender'],axis=1)\n"
   ]
  },
  {
   "cell_type": "code",
   "execution_count": 7,
   "metadata": {},
   "outputs": [],
   "source": [
    "# Splitting the dataset into the Training set and Test set\n",
    "from sklearn.model_selection import train_test_split\n",
    "X_train, X_test, y_train, y_test = train_test_split(X, y, test_size = 0.2, random_state = 0)\n"
   ]
  },
  {
   "cell_type": "code",
   "execution_count": 8,
   "metadata": {},
   "outputs": [],
   "source": [
    "# Feature Scaling\n",
    "from sklearn.preprocessing import StandardScaler\n",
    "sc = StandardScaler()\n",
    "X_train = sc.fit_transform(X_train)\n",
    "X_test = sc.transform(X_test)\n"
   ]
  },
  {
   "cell_type": "code",
   "execution_count": 9,
   "metadata": {},
   "outputs": [],
   "source": [
    "# Importing the Keras libraries and packages\n",
    "import keras\n",
    "from keras.models import Sequential\n",
    "from keras.layers import Dense\n",
    "from keras.layers import LeakyReLU,PReLU,ELU\n",
    "from keras.layers import Dropout\n",
    "\n"
   ]
  },
  {
   "cell_type": "code",
   "execution_count": 10,
   "metadata": {},
   "outputs": [],
   "source": [
    "# Initialising the ANN\n",
    "classifier = Sequential()"
   ]
  },
  {
   "cell_type": "code",
   "execution_count": 14,
   "metadata": {},
   "outputs": [],
   "source": [
    "# Adding the input layer and the first hidden layer\n",
    "classifier.add(Dense(6, kernel_initializer = 'he_uniform',activation='relu',input_dim = 11))\n",
    "\n",
    "# Adding the second hidden layer\n",
    "classifier.add(Dense(6, kernel_initializer = 'he_uniform',activation='relu'))\n",
    "# Adding the output layer\n",
    "classifier.add(Dense(1, kernel_initializer = 'glorot_uniform', activation = 'sigmoid'))\n",
    "\n"
   ]
  },
  {
   "cell_type": "code",
   "execution_count": 15,
   "metadata": {},
   "outputs": [],
   "source": [
    "# Compiling the ANN\n",
    "classifier.compile(optimizer = 'Adamax', loss = 'binary_crossentropy', metrics = ['accuracy'])\n"
   ]
  },
  {
   "cell_type": "code",
   "execution_count": 17,
   "metadata": {},
   "outputs": [
    {
     "name": "stdout",
     "output_type": "stream",
     "text": [
      "Epoch 1/100\n",
      "536/536 [==============================] - 2s 2ms/step - loss: 0.6842 - accuracy: 0.6072 - val_loss: 0.5850 - val_accuracy: 0.7281\n",
      "Epoch 2/100\n",
      "536/536 [==============================] - 1s 2ms/step - loss: 0.5557 - accuracy: 0.7673 - val_loss: 0.5313 - val_accuracy: 0.7849\n",
      "Epoch 3/100\n",
      "536/536 [==============================] - 1s 2ms/step - loss: 0.5166 - accuracy: 0.7960 - val_loss: 0.5018 - val_accuracy: 0.7963\n",
      "Epoch 4/100\n",
      "536/536 [==============================] - 1s 2ms/step - loss: 0.4929 - accuracy: 0.7983 - val_loss: 0.4838 - val_accuracy: 0.7974\n",
      "Epoch 5/100\n",
      "536/536 [==============================] - 1s 2ms/step - loss: 0.4753 - accuracy: 0.8011 - val_loss: 0.4690 - val_accuracy: 0.8035\n",
      "Epoch 6/100\n",
      "536/536 [==============================] - 1s 2ms/step - loss: 0.4588 - accuracy: 0.8091 - val_loss: 0.4557 - val_accuracy: 0.8095\n",
      "Epoch 7/100\n",
      "536/536 [==============================] - 1s 2ms/step - loss: 0.4441 - accuracy: 0.8155 - val_loss: 0.4446 - val_accuracy: 0.8148\n",
      "Epoch 8/100\n",
      "536/536 [==============================] - 1s 2ms/step - loss: 0.4316 - accuracy: 0.8222 - val_loss: 0.4366 - val_accuracy: 0.8217\n",
      "Epoch 9/100\n",
      "536/536 [==============================] - 1s 2ms/step - loss: 0.4225 - accuracy: 0.8263 - val_loss: 0.4305 - val_accuracy: 0.8243\n",
      "Epoch 10/100\n",
      "536/536 [==============================] - 1s 2ms/step - loss: 0.4150 - accuracy: 0.8298 - val_loss: 0.4248 - val_accuracy: 0.8239\n",
      "Epoch 11/100\n",
      "536/536 [==============================] - 1s 2ms/step - loss: 0.4090 - accuracy: 0.8326 - val_loss: 0.4209 - val_accuracy: 0.8254\n",
      "Epoch 12/100\n",
      "536/536 [==============================] - 1s 2ms/step - loss: 0.4040 - accuracy: 0.8352 - val_loss: 0.4176 - val_accuracy: 0.8273\n",
      "Epoch 13/100\n",
      "536/536 [==============================] - 1s 2ms/step - loss: 0.3998 - accuracy: 0.8382 - val_loss: 0.4142 - val_accuracy: 0.8262\n",
      "Epoch 14/100\n",
      "536/536 [==============================] - 1s 2ms/step - loss: 0.3960 - accuracy: 0.8380 - val_loss: 0.4108 - val_accuracy: 0.8277\n",
      "Epoch 15/100\n",
      "536/536 [==============================] - 1s 2ms/step - loss: 0.3918 - accuracy: 0.8406 - val_loss: 0.4074 - val_accuracy: 0.8289\n",
      "Epoch 16/100\n",
      "536/536 [==============================] - 1s 2ms/step - loss: 0.3877 - accuracy: 0.8408 - val_loss: 0.4047 - val_accuracy: 0.8296\n",
      "Epoch 17/100\n",
      "536/536 [==============================] - 1s 2ms/step - loss: 0.3844 - accuracy: 0.8427 - val_loss: 0.4009 - val_accuracy: 0.8326\n",
      "Epoch 18/100\n",
      "536/536 [==============================] - 1s 2ms/step - loss: 0.3813 - accuracy: 0.8433 - val_loss: 0.3979 - val_accuracy: 0.8349\n",
      "Epoch 19/100\n",
      "536/536 [==============================] - 1s 2ms/step - loss: 0.3779 - accuracy: 0.8438 - val_loss: 0.3953 - val_accuracy: 0.8353\n",
      "Epoch 20/100\n",
      "536/536 [==============================] - 1s 2ms/step - loss: 0.3749 - accuracy: 0.8427 - val_loss: 0.3931 - val_accuracy: 0.8368\n",
      "Epoch 21/100\n",
      "536/536 [==============================] - 1s 2ms/step - loss: 0.3721 - accuracy: 0.8447 - val_loss: 0.3905 - val_accuracy: 0.8379\n",
      "Epoch 22/100\n",
      "536/536 [==============================] - 1s 2ms/step - loss: 0.3696 - accuracy: 0.8447 - val_loss: 0.3887 - val_accuracy: 0.8383\n",
      "Epoch 23/100\n",
      "536/536 [==============================] - 1s 2ms/step - loss: 0.3676 - accuracy: 0.8459 - val_loss: 0.3869 - val_accuracy: 0.8395\n",
      "Epoch 24/100\n",
      "536/536 [==============================] - 1s 2ms/step - loss: 0.3657 - accuracy: 0.8472 - val_loss: 0.3854 - val_accuracy: 0.8406\n",
      "Epoch 25/100\n",
      "536/536 [==============================] - 1s 2ms/step - loss: 0.3639 - accuracy: 0.8468 - val_loss: 0.3836 - val_accuracy: 0.8429\n",
      "Epoch 26/100\n",
      "536/536 [==============================] - 1s 2ms/step - loss: 0.3624 - accuracy: 0.8475 - val_loss: 0.3825 - val_accuracy: 0.8402\n",
      "Epoch 27/100\n",
      "536/536 [==============================] - 1s 2ms/step - loss: 0.3609 - accuracy: 0.8468 - val_loss: 0.3815 - val_accuracy: 0.8406\n",
      "Epoch 28/100\n",
      "536/536 [==============================] - 1s 2ms/step - loss: 0.3594 - accuracy: 0.8496 - val_loss: 0.3808 - val_accuracy: 0.8406\n",
      "Epoch 29/100\n",
      "536/536 [==============================] - 1s 2ms/step - loss: 0.3581 - accuracy: 0.8511 - val_loss: 0.3795 - val_accuracy: 0.8417\n",
      "Epoch 30/100\n",
      "536/536 [==============================] - 1s 2ms/step - loss: 0.3573 - accuracy: 0.8511 - val_loss: 0.3787 - val_accuracy: 0.8432\n",
      "Epoch 31/100\n",
      "536/536 [==============================] - 1s 2ms/step - loss: 0.3562 - accuracy: 0.8518 - val_loss: 0.3782 - val_accuracy: 0.8425\n",
      "Epoch 32/100\n",
      "536/536 [==============================] - 1s 2ms/step - loss: 0.3553 - accuracy: 0.8522 - val_loss: 0.3777 - val_accuracy: 0.8429\n",
      "Epoch 33/100\n",
      "536/536 [==============================] - 1s 2ms/step - loss: 0.3544 - accuracy: 0.8531 - val_loss: 0.3782 - val_accuracy: 0.8417\n",
      "Epoch 34/100\n",
      "536/536 [==============================] - 1s 2ms/step - loss: 0.3539 - accuracy: 0.8524 - val_loss: 0.3769 - val_accuracy: 0.8436\n",
      "Epoch 35/100\n",
      "536/536 [==============================] - 1s 2ms/step - loss: 0.3530 - accuracy: 0.8550 - val_loss: 0.3765 - val_accuracy: 0.8436\n",
      "Epoch 36/100\n",
      "536/536 [==============================] - 1s 2ms/step - loss: 0.3524 - accuracy: 0.8528 - val_loss: 0.3764 - val_accuracy: 0.8440\n",
      "Epoch 37/100\n",
      "536/536 [==============================] - 1s 2ms/step - loss: 0.3516 - accuracy: 0.8522 - val_loss: 0.3754 - val_accuracy: 0.8440\n",
      "Epoch 38/100\n",
      "536/536 [==============================] - 1s 2ms/step - loss: 0.3510 - accuracy: 0.8535 - val_loss: 0.3752 - val_accuracy: 0.8451\n",
      "Epoch 39/100\n",
      "536/536 [==============================] - 1s 2ms/step - loss: 0.3502 - accuracy: 0.8546 - val_loss: 0.3750 - val_accuracy: 0.8444\n",
      "Epoch 40/100\n",
      "536/536 [==============================] - 1s 2ms/step - loss: 0.3500 - accuracy: 0.8546 - val_loss: 0.3744 - val_accuracy: 0.8436\n",
      "Epoch 41/100\n",
      "536/536 [==============================] - 1s 2ms/step - loss: 0.3494 - accuracy: 0.8546 - val_loss: 0.3743 - val_accuracy: 0.8463\n",
      "Epoch 42/100\n",
      "536/536 [==============================] - 1s 2ms/step - loss: 0.3488 - accuracy: 0.8563 - val_loss: 0.3736 - val_accuracy: 0.8451\n",
      "Epoch 43/100\n",
      "536/536 [==============================] - 1s 2ms/step - loss: 0.3485 - accuracy: 0.8558 - val_loss: 0.3734 - val_accuracy: 0.8482\n",
      "Epoch 44/100\n",
      "536/536 [==============================] - 1s 2ms/step - loss: 0.3479 - accuracy: 0.8571 - val_loss: 0.3727 - val_accuracy: 0.8466\n",
      "Epoch 45/100\n",
      "536/536 [==============================] - 1s 2ms/step - loss: 0.3476 - accuracy: 0.8565 - val_loss: 0.3725 - val_accuracy: 0.8493\n",
      "Epoch 46/100\n",
      "536/536 [==============================] - 1s 2ms/step - loss: 0.3469 - accuracy: 0.8576 - val_loss: 0.3723 - val_accuracy: 0.8470\n",
      "Epoch 47/100\n",
      "536/536 [==============================] - 1s 2ms/step - loss: 0.3466 - accuracy: 0.8584 - val_loss: 0.3717 - val_accuracy: 0.8485\n",
      "Epoch 48/100\n",
      "536/536 [==============================] - 1s 2ms/step - loss: 0.3460 - accuracy: 0.8589 - val_loss: 0.3713 - val_accuracy: 0.8485\n",
      "Epoch 49/100\n",
      "536/536 [==============================] - 1s 2ms/step - loss: 0.3458 - accuracy: 0.8580 - val_loss: 0.3712 - val_accuracy: 0.8508\n",
      "Epoch 50/100\n",
      "536/536 [==============================] - 1s 2ms/step - loss: 0.3455 - accuracy: 0.8576 - val_loss: 0.3709 - val_accuracy: 0.8501\n",
      "Epoch 51/100\n",
      "536/536 [==============================] - 1s 2ms/step - loss: 0.3451 - accuracy: 0.8584 - val_loss: 0.3704 - val_accuracy: 0.8504\n",
      "Epoch 52/100\n",
      "536/536 [==============================] - 1s 3ms/step - loss: 0.3449 - accuracy: 0.8584 - val_loss: 0.3701 - val_accuracy: 0.8485\n",
      "Epoch 53/100\n",
      "536/536 [==============================] - 1s 3ms/step - loss: 0.3445 - accuracy: 0.8597 - val_loss: 0.3698 - val_accuracy: 0.8489\n",
      "Epoch 54/100\n",
      "536/536 [==============================] - 1s 2ms/step - loss: 0.3441 - accuracy: 0.8591 - val_loss: 0.3699 - val_accuracy: 0.8485\n",
      "Epoch 55/100\n",
      "536/536 [==============================] - 1s 3ms/step - loss: 0.3440 - accuracy: 0.8587 - val_loss: 0.3695 - val_accuracy: 0.8497\n",
      "Epoch 56/100\n",
      "536/536 [==============================] - 1s 2ms/step - loss: 0.3435 - accuracy: 0.8608 - val_loss: 0.3692 - val_accuracy: 0.8501\n",
      "Epoch 57/100\n",
      "536/536 [==============================] - 1s 2ms/step - loss: 0.3432 - accuracy: 0.8591 - val_loss: 0.3688 - val_accuracy: 0.8508\n",
      "Epoch 58/100\n",
      "536/536 [==============================] - 1s 2ms/step - loss: 0.3430 - accuracy: 0.8602 - val_loss: 0.3688 - val_accuracy: 0.8519\n",
      "Epoch 59/100\n",
      "536/536 [==============================] - 1s 2ms/step - loss: 0.3429 - accuracy: 0.8595 - val_loss: 0.3687 - val_accuracy: 0.8504\n",
      "Epoch 60/100\n",
      "536/536 [==============================] - 1s 2ms/step - loss: 0.3426 - accuracy: 0.8595 - val_loss: 0.3684 - val_accuracy: 0.8504\n",
      "Epoch 61/100\n",
      "536/536 [==============================] - 1s 2ms/step - loss: 0.3424 - accuracy: 0.8604 - val_loss: 0.3679 - val_accuracy: 0.8538\n",
      "Epoch 62/100\n",
      "536/536 [==============================] - 1s 2ms/step - loss: 0.3422 - accuracy: 0.8600 - val_loss: 0.3677 - val_accuracy: 0.8542\n",
      "Epoch 63/100\n",
      "536/536 [==============================] - 1s 2ms/step - loss: 0.3419 - accuracy: 0.8600 - val_loss: 0.3675 - val_accuracy: 0.8516\n",
      "Epoch 64/100\n",
      "536/536 [==============================] - 1s 2ms/step - loss: 0.3416 - accuracy: 0.8582 - val_loss: 0.3674 - val_accuracy: 0.8504\n",
      "Epoch 65/100\n",
      "536/536 [==============================] - 1s 2ms/step - loss: 0.3417 - accuracy: 0.8587 - val_loss: 0.3674 - val_accuracy: 0.8527\n",
      "Epoch 66/100\n",
      "536/536 [==============================] - 1s 2ms/step - loss: 0.3413 - accuracy: 0.8614 - val_loss: 0.3670 - val_accuracy: 0.8531\n",
      "Epoch 67/100\n",
      "536/536 [==============================] - 1s 2ms/step - loss: 0.3414 - accuracy: 0.8606 - val_loss: 0.3668 - val_accuracy: 0.8531\n",
      "Epoch 68/100\n",
      "536/536 [==============================] - 1s 2ms/step - loss: 0.3411 - accuracy: 0.8610 - val_loss: 0.3670 - val_accuracy: 0.8512\n",
      "Epoch 69/100\n",
      "536/536 [==============================] - 1s 2ms/step - loss: 0.3411 - accuracy: 0.8600 - val_loss: 0.3666 - val_accuracy: 0.8523\n",
      "Epoch 70/100\n",
      "536/536 [==============================] - 1s 2ms/step - loss: 0.3407 - accuracy: 0.8599 - val_loss: 0.3664 - val_accuracy: 0.8535\n",
      "Epoch 71/100\n",
      "536/536 [==============================] - 1s 2ms/step - loss: 0.3408 - accuracy: 0.8606 - val_loss: 0.3660 - val_accuracy: 0.8531\n",
      "Epoch 72/100\n",
      "536/536 [==============================] - 1s 2ms/step - loss: 0.3405 - accuracy: 0.8602 - val_loss: 0.3661 - val_accuracy: 0.8519\n",
      "Epoch 73/100\n",
      "536/536 [==============================] - 1s 2ms/step - loss: 0.3405 - accuracy: 0.8606 - val_loss: 0.3659 - val_accuracy: 0.8542\n",
      "Epoch 74/100\n",
      "536/536 [==============================] - 1s 2ms/step - loss: 0.3403 - accuracy: 0.8604 - val_loss: 0.3657 - val_accuracy: 0.8508\n",
      "Epoch 75/100\n",
      "536/536 [==============================] - 1s 2ms/step - loss: 0.3401 - accuracy: 0.8615 - val_loss: 0.3658 - val_accuracy: 0.8531\n",
      "Epoch 76/100\n",
      "536/536 [==============================] - 1s 2ms/step - loss: 0.3400 - accuracy: 0.8614 - val_loss: 0.3656 - val_accuracy: 0.8512\n",
      "Epoch 77/100\n",
      "536/536 [==============================] - 1s 2ms/step - loss: 0.3399 - accuracy: 0.8615 - val_loss: 0.3654 - val_accuracy: 0.8519\n",
      "Epoch 78/100\n",
      "536/536 [==============================] - 1s 2ms/step - loss: 0.3396 - accuracy: 0.8604 - val_loss: 0.3657 - val_accuracy: 0.8497\n",
      "Epoch 79/100\n",
      "536/536 [==============================] - 1s 2ms/step - loss: 0.3398 - accuracy: 0.8599 - val_loss: 0.3649 - val_accuracy: 0.8512\n",
      "Epoch 80/100\n",
      "536/536 [==============================] - 1s 2ms/step - loss: 0.3395 - accuracy: 0.8612 - val_loss: 0.3651 - val_accuracy: 0.8508\n",
      "Epoch 81/100\n",
      "536/536 [==============================] - 1s 2ms/step - loss: 0.3394 - accuracy: 0.8600 - val_loss: 0.3647 - val_accuracy: 0.8508\n",
      "Epoch 82/100\n",
      "536/536 [==============================] - 1s 2ms/step - loss: 0.3391 - accuracy: 0.8615 - val_loss: 0.3649 - val_accuracy: 0.8501\n",
      "Epoch 83/100\n",
      "536/536 [==============================] - 1s 2ms/step - loss: 0.3390 - accuracy: 0.8589 - val_loss: 0.3645 - val_accuracy: 0.8504\n",
      "Epoch 84/100\n",
      "536/536 [==============================] - 1s 2ms/step - loss: 0.3390 - accuracy: 0.8612 - val_loss: 0.3641 - val_accuracy: 0.8497\n",
      "Epoch 85/100\n",
      "536/536 [==============================] - 1s 2ms/step - loss: 0.3386 - accuracy: 0.8593 - val_loss: 0.3641 - val_accuracy: 0.8508\n",
      "Epoch 86/100\n",
      "536/536 [==============================] - 1s 2ms/step - loss: 0.3386 - accuracy: 0.8608 - val_loss: 0.3637 - val_accuracy: 0.8489\n",
      "Epoch 87/100\n",
      "536/536 [==============================] - 1s 2ms/step - loss: 0.3383 - accuracy: 0.8606 - val_loss: 0.3636 - val_accuracy: 0.8519\n",
      "Epoch 88/100\n",
      "536/536 [==============================] - 1s 2ms/step - loss: 0.3384 - accuracy: 0.8597 - val_loss: 0.3634 - val_accuracy: 0.8519\n",
      "Epoch 89/100\n",
      "536/536 [==============================] - 1s 2ms/step - loss: 0.3381 - accuracy: 0.8630 - val_loss: 0.3633 - val_accuracy: 0.8508\n",
      "Epoch 90/100\n",
      "536/536 [==============================] - 1s 2ms/step - loss: 0.3381 - accuracy: 0.8608 - val_loss: 0.3636 - val_accuracy: 0.8493\n",
      "Epoch 91/100\n",
      "536/536 [==============================] - 1s 2ms/step - loss: 0.3379 - accuracy: 0.8610 - val_loss: 0.3630 - val_accuracy: 0.8523\n",
      "Epoch 92/100\n",
      "536/536 [==============================] - 1s 2ms/step - loss: 0.3378 - accuracy: 0.8612 - val_loss: 0.3630 - val_accuracy: 0.8497\n",
      "Epoch 93/100\n",
      "536/536 [==============================] - 1s 2ms/step - loss: 0.3377 - accuracy: 0.8610 - val_loss: 0.3629 - val_accuracy: 0.8508\n",
      "Epoch 94/100\n",
      "536/536 [==============================] - 1s 2ms/step - loss: 0.3375 - accuracy: 0.8606 - val_loss: 0.3633 - val_accuracy: 0.8485\n",
      "Epoch 95/100\n",
      "536/536 [==============================] - 1s 2ms/step - loss: 0.3376 - accuracy: 0.8600 - val_loss: 0.3628 - val_accuracy: 0.8516\n",
      "Epoch 96/100\n",
      "536/536 [==============================] - 1s 2ms/step - loss: 0.3374 - accuracy: 0.8608 - val_loss: 0.3630 - val_accuracy: 0.8489\n",
      "Epoch 97/100\n",
      "536/536 [==============================] - 1s 2ms/step - loss: 0.3373 - accuracy: 0.8614 - val_loss: 0.3628 - val_accuracy: 0.8497\n",
      "Epoch 98/100\n",
      "536/536 [==============================] - 1s 2ms/step - loss: 0.3372 - accuracy: 0.8604 - val_loss: 0.3626 - val_accuracy: 0.8519\n",
      "Epoch 99/100\n",
      "536/536 [==============================] - 1s 2ms/step - loss: 0.3371 - accuracy: 0.8615 - val_loss: 0.3625 - val_accuracy: 0.8519\n",
      "Epoch 100/100\n",
      "536/536 [==============================] - 1s 2ms/step - loss: 0.3370 - accuracy: 0.8621 - val_loss: 0.3625 - val_accuracy: 0.8512\n"
     ]
    }
   ],
   "source": [
    "# Fitting the ANN to the Training set\n",
    "model_history=classifier.fit(X_train, y_train,validation_split=0.33, batch_size = 10, epochs = 100)\n"
   ]
  },
  {
   "cell_type": "code",
   "execution_count": 21,
   "metadata": {},
   "outputs": [
    {
     "name": "stdout",
     "output_type": "stream",
     "text": [
      "dict_keys(['loss', 'accuracy', 'val_loss', 'val_accuracy'])\n"
     ]
    }
   ],
   "source": [
    "# list all data in history\n",
    "\n",
    "print(model_history.history.keys())\n"
   ]
  },
  {
   "cell_type": "code",
   "execution_count": 28,
   "metadata": {},
   "outputs": [
    {
     "data": {
      "image/png": "[encoded data removed]",
      "text/plain": [
       "<Figure size 432x288 with 1 Axes>"
      ]
     },
     "metadata": {
      "needs_background": "light"
     },
     "output_type": "display_data"
    }
   ],
   "source": [
    "# summarize history for loss\n",
    "plt.plot(model_history.history['loss'])\n",
    "plt.plot(model_history.history['val_loss'])\n",
    "plt.title('model loss')\n",
    "plt.ylabel('loss')\n",
    "plt.xlabel('epoch')\n",
    "plt.legend(['train', 'test'], loc='upper left')\n",
    "plt.show()\n"
   ]
  },
  {
   "cell_type": "code",
   "execution_count": 25,
   "metadata": {},
   "outputs": [],
   "source": [
    "\n",
    "# Predicting the Test set results\n",
    "y_pred = classifier.predict(X_test)\n",
    "y_pred = (y_pred > 0.5)"
   ]
  },
  {
   "cell_type": "code",
   "execution_count": 23,
   "metadata": {},
   "outputs": [
    {
     "name": "stdout",
     "output_type": "stream",
     "text": [
      "[[1509   86]\n",
      " [ 203  202]]\n"
     ]
    }
   ],
   "source": [
    "# Making the Confusion Matrix\n",
    "from sklearn.metrics import confusion_matrix\n",
    "cm = confusion_matrix(y_test, y_pred)\n",
    "print(cm)"
   ]
  },
  {
   "cell_type": "code",
   "execution_count": 27,
   "metadata": {},
   "outputs": [
    {
     "name": "stdout",
     "output_type": "stream",
     "text": [
      "0.8555\n"
     ]
    }
   ],
   "source": [
    "# Calculate the Accuracy\n",
    "from sklearn.metrics import accuracy_score\n",
    "score=accuracy_score(y_pred,y_test)\n",
    "print(score)\n"
   ]
  },
  {
   "cell_type": "code",
   "execution_count": null,
   "metadata": {},
   "outputs": [],
   "source": []
  }
 ],
 "metadata": {
  "kernelspec": {
   "display_name": "Python 3",
   "language": "python",
   "name": "python3"
  },
  "language_info": {
   "codemirror_mode": {
    "name": "ipython",
    "version": 3
   },
   "file_extension": ".py",
   "mimetype": "text/x-python",
   "name": "python",
   "nbconvert_exporter": "python",
   "pygments_lexer": "ipython3",
   "version": "3.8.5"
  }
 },
 "nbformat": 4,
 "nbformat_minor": 4
}
